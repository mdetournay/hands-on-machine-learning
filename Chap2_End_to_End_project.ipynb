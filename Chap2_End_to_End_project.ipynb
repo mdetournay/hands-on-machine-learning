{
 "cells": [
  {
   "cell_type": "code",
   "execution_count": 180,
   "metadata": {
    "collapsed": true
   },
   "outputs": [],
   "source": [
    "%matplotlib inline\n",
    "import numpy as np\n",
    "import pandas as pd \n",
    "from matplotlib import pyplot as plt \n",
    "from sklearn.model_selection import train_test_split\n",
    "from sklearn.preprocessing import Imputer,StandardScaler\n",
    "from sklearn.base import BaseEstimator, TransformerMixin\n",
    "from sklearn.pipeline import Pipeline,FeatureUnion\n",
    "from pandas.tools.plotting import scatter_matrix\n",
    "from sklearn.linear_model import LinearRegression\n",
    "from sklearn.ensemble import RandomForestRegressor\n",
    "from sklearn.neighbors import KNeighborsRegressor\n",
    "from sklearn.neural_network import MLPRegressor\n",
    "from sklearn.metrics import mean_squared_error,r2_score\n",
    "from sklearn.tree import DecisionTreeRegressor\n",
    "from sklearn.model_selection import cross_val_score\n",
    "from sklearn.model_selection import GridSearchCV"
   ]
  },
  {
   "cell_type": "code",
   "execution_count": 181,
   "metadata": {},
   "outputs": [],
   "source": [
    "data=pd.read_csv(\"handson-ml/datasets/housing/housing.csv\")"
   ]
  },
  {
   "cell_type": "code",
   "execution_count": 182,
   "metadata": {},
   "outputs": [
    {
     "data": {
      "text/html": [
       "<div>\n",
       "<style>\n",
       "    .dataframe thead tr:only-child th {\n",
       "        text-align: right;\n",
       "    }\n",
       "\n",
       "    .dataframe thead th {\n",
       "        text-align: left;\n",
       "    }\n",
       "\n",
       "    .dataframe tbody tr th {\n",
       "        vertical-align: top;\n",
       "    }\n",
       "</style>\n",
       "<table border=\"1\" class=\"dataframe\">\n",
       "  <thead>\n",
       "    <tr style=\"text-align: right;\">\n",
       "      <th></th>\n",
       "      <th>longitude</th>\n",
       "      <th>latitude</th>\n",
       "      <th>housing_median_age</th>\n",
       "      <th>total_rooms</th>\n",
       "      <th>total_bedrooms</th>\n",
       "      <th>population</th>\n",
       "      <th>households</th>\n",
       "      <th>median_income</th>\n",
       "      <th>median_house_value</th>\n",
       "      <th>ocean_proximity</th>\n",
       "    </tr>\n",
       "  </thead>\n",
       "  <tbody>\n",
       "    <tr>\n",
       "      <th>0</th>\n",
       "      <td>-122.23</td>\n",
       "      <td>37.88</td>\n",
       "      <td>41.0</td>\n",
       "      <td>880.0</td>\n",
       "      <td>129.0</td>\n",
       "      <td>322.0</td>\n",
       "      <td>126.0</td>\n",
       "      <td>8.3252</td>\n",
       "      <td>452600.0</td>\n",
       "      <td>NEAR BAY</td>\n",
       "    </tr>\n",
       "    <tr>\n",
       "      <th>1</th>\n",
       "      <td>-122.22</td>\n",
       "      <td>37.86</td>\n",
       "      <td>21.0</td>\n",
       "      <td>7099.0</td>\n",
       "      <td>1106.0</td>\n",
       "      <td>2401.0</td>\n",
       "      <td>1138.0</td>\n",
       "      <td>8.3014</td>\n",
       "      <td>358500.0</td>\n",
       "      <td>NEAR BAY</td>\n",
       "    </tr>\n",
       "    <tr>\n",
       "      <th>2</th>\n",
       "      <td>-122.24</td>\n",
       "      <td>37.85</td>\n",
       "      <td>52.0</td>\n",
       "      <td>1467.0</td>\n",
       "      <td>190.0</td>\n",
       "      <td>496.0</td>\n",
       "      <td>177.0</td>\n",
       "      <td>7.2574</td>\n",
       "      <td>352100.0</td>\n",
       "      <td>NEAR BAY</td>\n",
       "    </tr>\n",
       "    <tr>\n",
       "      <th>3</th>\n",
       "      <td>-122.25</td>\n",
       "      <td>37.85</td>\n",
       "      <td>52.0</td>\n",
       "      <td>1274.0</td>\n",
       "      <td>235.0</td>\n",
       "      <td>558.0</td>\n",
       "      <td>219.0</td>\n",
       "      <td>5.6431</td>\n",
       "      <td>341300.0</td>\n",
       "      <td>NEAR BAY</td>\n",
       "    </tr>\n",
       "    <tr>\n",
       "      <th>4</th>\n",
       "      <td>-122.25</td>\n",
       "      <td>37.85</td>\n",
       "      <td>52.0</td>\n",
       "      <td>1627.0</td>\n",
       "      <td>280.0</td>\n",
       "      <td>565.0</td>\n",
       "      <td>259.0</td>\n",
       "      <td>3.8462</td>\n",
       "      <td>342200.0</td>\n",
       "      <td>NEAR BAY</td>\n",
       "    </tr>\n",
       "  </tbody>\n",
       "</table>\n",
       "</div>"
      ],
      "text/plain": [
       "   longitude  latitude  housing_median_age  total_rooms  total_bedrooms  \\\n",
       "0    -122.23     37.88                41.0        880.0           129.0   \n",
       "1    -122.22     37.86                21.0       7099.0          1106.0   \n",
       "2    -122.24     37.85                52.0       1467.0           190.0   \n",
       "3    -122.25     37.85                52.0       1274.0           235.0   \n",
       "4    -122.25     37.85                52.0       1627.0           280.0   \n",
       "\n",
       "   population  households  median_income  median_house_value ocean_proximity  \n",
       "0       322.0       126.0         8.3252            452600.0        NEAR BAY  \n",
       "1      2401.0      1138.0         8.3014            358500.0        NEAR BAY  \n",
       "2       496.0       177.0         7.2574            352100.0        NEAR BAY  \n",
       "3       558.0       219.0         5.6431            341300.0        NEAR BAY  \n",
       "4       565.0       259.0         3.8462            342200.0        NEAR BAY  "
      ]
     },
     "execution_count": 182,
     "metadata": {},
     "output_type": "execute_result"
    }
   ],
   "source": [
    "data_copy=data.copy()\n",
    "target=data_copy.pop(\"median_house_value\")\n",
    "X_train,X_test,y_train,y_test=train_test_split(data_copy,target,test_size=0.2,random_state=42)\n",
    "data.head()"
   ]
  },
  {
   "cell_type": "code",
   "execution_count": 18,
   "metadata": {},
   "outputs": [
    {
     "name": "stdout",
     "output_type": "stream",
     "text": [
      "(16512, 10)\n"
     ]
    }
   ],
   "source": [
    "print(X_train.shape)"
   ]
  },
  {
   "cell_type": "code",
   "execution_count": 19,
   "metadata": {},
   "outputs": [
    {
     "name": "stdout",
     "output_type": "stream",
     "text": [
      "(4128, 10)\n"
     ]
    }
   ],
   "source": [
    "print(X_test.shape)"
   ]
  },
  {
   "cell_type": "code",
   "execution_count": null,
   "metadata": {
    "scrolled": true
   },
   "outputs": [],
   "source": [
    "data['rooms_household']=data['total_rooms']/data['households']\n",
    "data['bedrooms_rooms']=data['total_rooms']/data['total_bedrooms']\n",
    "matrix=data.corr()\n",
    "print(matrix['median_house_value'].sort_values(ascending=False))\n",
    "\n",
    "scatter_matrix(data[['median_house_value','median_income','bedrooms_rooms','rooms_household','housing_median_age','latitude','longitude']],figsize=(12,8))"
   ]
  },
  {
   "cell_type": "code",
   "execution_count": 183,
   "metadata": {},
   "outputs": [],
   "source": [
    "class DataFrame_Selector(BaseEstimator,TransformerMixin):\n",
    "    \n",
    "    def __init__(self,columns): \n",
    "        self.columns=columns\n",
    "        \n",
    "    def fit(self,X,y=None):\n",
    "        return self # nothing to do \n",
    "    \n",
    "    def transform(self,X,y=None):\n",
    "        return X[self.columns].values"
   ]
  },
  {
   "cell_type": "code",
   "execution_count": 184,
   "metadata": {},
   "outputs": [],
   "source": [
    "class Label_Hot_Encoder(BaseEstimator,TransformerMixin):\n",
    "    \n",
    "    def __init__(self,columns):\n",
    "        self.columns=columns\n",
    "        \n",
    "        \n",
    "    def fit(self,X,y=None):\n",
    "        return self\n",
    "    \n",
    "    def transform(self,X,y=None):\n",
    "        \n",
    "        data=pd.DataFrame(X,columns=self.columns)\n",
    "        \n",
    "        for col in self.columns:\n",
    "            one_hot=pd.DataFrame(data.pop(col))\n",
    "            one_hot[\"value\"]=1\n",
    "            one_hot=one_hot.pivot(index=None,columns=col,values=\"value\")\n",
    "            one_hot.columns.name=None\n",
    "            one_hot=one_hot.fillna(0)\n",
    "            data=data.merge(one_hot,left_index=True,right_index=True)\n",
    "        return data.values"
   ]
  },
  {
   "cell_type": "code",
   "execution_count": 185,
   "metadata": {
    "collapsed": true
   },
   "outputs": [],
   "source": [
    "class AttributeAdder(BaseEstimator,TransformerMixin):\n",
    "    def __init__(self,columns):\n",
    "        self.columns=columns\n",
    "    \n",
    "    def fit(self, X,y=None):\n",
    "        return self\n",
    "    def transform(self, X,y=None):\n",
    "        rooms_household=X[:,self.columns.index('total_rooms')]/X[:,self.columns.index('households')]\n",
    "        bedrooms_rooms=X[:,self.columns.index('total_rooms')]/X[:,self.columns.index('total_bedrooms')]\n",
    "        pop_hhold=X[:,self.columns.index('population')]/X[:,self.columns.index('households')]\n",
    "        \n",
    "        \n",
    "        return np.c_[X,rooms_household,bedrooms_rooms,pop_hhold]\n",
    "        "
   ]
  },
  {
   "cell_type": "code",
   "execution_count": 186,
   "metadata": {},
   "outputs": [],
   "source": [
    "num_data=X_train.drop([\"ocean_proximity\",\"latitude\",\"longitude\"],axis=1)\n",
    "num_columns=list(num_data)\n",
    "cat_columns=['ocean_proximity']\n",
    "num_pipeline=Pipeline([(\"selector\",DataFrame_Selector(num_columns)),\n",
    "                        (\"imputer\",Imputer(strategy=\"median\")),\n",
    "                        (\"feat_adder\",AttributeAdder(num_columns)),\n",
    "                        (\"scaler\",StandardScaler())])\n",
    "\n",
    "cat_pipeline=Pipeline([(\"selector\",DataFrame_Selector(cat_columns)),\n",
    "                        (\"encoder\",Label_Hot_Encoder(cat_columns))])\n",
    "\n",
    "full_pipeline=FeatureUnion(transformer_list=[(\"num_pipeline\",num_pipeline),\n",
    "                                            (\"cat_pipeline\",cat_pipeline)])\n",
    "\n",
    "\n",
    "\n",
    "\n"
   ]
  },
  {
   "cell_type": "code",
   "execution_count": 187,
   "metadata": {},
   "outputs": [],
   "source": [
    "X_train_clean=full_pipeline.fit_transform(X_train)\n",
    "X_test_clean=full_pipeline.transform(X_test)"
   ]
  },
  {
   "cell_type": "code",
   "execution_count": 53,
   "metadata": {},
   "outputs": [
    {
     "name": "stdout",
     "output_type": "stream",
     "text": [
      "[[ 0.  0.  0.  1.]\n",
      " [ 0.  0.  0.  1.]\n",
      " [ 0.  0.  0.  1.]\n",
      " ..., \n",
      " [ 0.  0.  0.  0.]\n",
      " [ 0.  0.  0.  0.]\n",
      " [ 0.  0.  1.  0.]]\n"
     ]
    }
   ],
   "source": [
    "print(X_train_clean[:,9:15])"
   ]
  },
  {
   "cell_type": "code",
   "execution_count": 142,
   "metadata": {},
   "outputs": [
    {
     "name": "stdout",
     "output_type": "stream",
     "text": [
      "Mean cross val score: 69363.4373762\n",
      "Std deviation scores: 2368.32051251\n"
     ]
    }
   ],
   "source": [
    "lin_model=LinearRegression()\n",
    "lin_scores=np.sqrt(-1*cross_val_score(lin_model,X_train_clean,np.c_[y_train],cv=10,scoring='neg_mean_squared_error'))\n",
    "print(\"Mean cross val score: \"+str(np.mean(lin_scores)))\n",
    "print(\"Std deviation scores: \"+str(np.std(lin_scores)))"
   ]
  },
  {
   "cell_type": "code",
   "execution_count": 188,
   "metadata": {},
   "outputs": [
    {
     "name": "stdout",
     "output_type": "stream",
     "text": [
      "Mean cross val score: 58874.4379231\n",
      "Std deviation scores: 1499.83542798\n"
     ]
    }
   ],
   "source": [
    "forest_model=RandomForestRegressor(n_estimators=30,max_features=8)\n",
    "forest_scores=np.sqrt(-1*cross_val_score(forest_model,X_train_clean,np.c_[y_train].ravel(),cv=10,scoring='neg_mean_squared_error'))\n",
    "print(\"Mean cross val score: \"+str(np.mean(forest_scores)))\n",
    "print(\"Std deviation scores: \"+str(np.std(forest_scores)))"
   ]
  },
  {
   "cell_type": "code",
   "execution_count": 145,
   "metadata": {},
   "outputs": [
    {
     "name": "stdout",
     "output_type": "stream",
     "text": [
      "Mean cross val score: 65548.7835912\n",
      "Std deviation scores: 1567.53507729\n"
     ]
    }
   ],
   "source": [
    "neigh_model=KNeighborsRegressor(n_neighbors=5)\n",
    "neigh_scores=np.sqrt(-1*cross_val_score(neigh_model,X_train_clean,np.c_[y_train].ravel(),cv=10,scoring='neg_mean_squared_error'))\n",
    "print(\"Mean cross val score: \"+str(np.mean(neigh_scores)))\n",
    "print(\"Std deviation scores: \"+str(np.std(neigh_scores)))"
   ]
  },
  {
   "cell_type": "code",
   "execution_count": 149,
   "metadata": {},
   "outputs": [
    {
     "data": {
      "text/plain": [
       "GridSearchCV(cv=5, error_score='raise',\n",
       "       estimator=RandomForestRegressor(bootstrap=True, criterion='mse', max_depth=None,\n",
       "           max_features='auto', max_leaf_nodes=None,\n",
       "           min_impurity_decrease=0.0, min_impurity_split=None,\n",
       "           min_samples_leaf=1, min_samples_split=2,\n",
       "           min_weight_fraction_leaf=0.0, n_estimators=10, n_jobs=1,\n",
       "           oob_score=False, random_state=None, verbose=0, warm_start=False),\n",
       "       fit_params=None, iid=True, n_jobs=1,\n",
       "       param_grid={'n_estimators': [5, 10, 20, 30], 'max_features': [2, 4, 6, 8]},\n",
       "       pre_dispatch='2*n_jobs', refit=True, return_train_score='warn',\n",
       "       scoring='neg_mean_squared_error', verbose=0)"
      ]
     },
     "execution_count": 149,
     "metadata": {},
     "output_type": "execute_result"
    }
   ],
   "source": [
    "param_grid={'n_estimators':[5,10,20,30],'max_features':[2,4,6,8]}\n",
    "grid_search=GridSearchCV(forest_model,param_grid,cv=5,scoring='neg_mean_squared_error')\n",
    "grid_search.fit(X_train_clean,np.c_[y_train].ravel())"
   ]
  },
  {
   "cell_type": "code",
   "execution_count": 193,
   "metadata": {},
   "outputs": [
    {
     "data": {
      "text/plain": [
       "KNeighborsRegressor(algorithm='auto', leaf_size=30, metric='minkowski',\n",
       "          metric_params=None, n_jobs=1, n_neighbors=5, p=2,\n",
       "          weights='uniform')"
      ]
     },
     "execution_count": 193,
     "metadata": {},
     "output_type": "execute_result"
    }
   ],
   "source": [
    "#Ensembling\n",
    "\n",
    "forest_model=RandomForestRegressor(n_estimators=30,max_features=6)\n",
    "forest_model.fit(X_train_clean,np.c_[y_train].ravel())\n",
    "\n",
    "\n",
    "neigh_model=KNeighborsRegressor(n_neighbors=5)\n",
    "neigh_model.fit(X_train_clean,np.c_[y_train].ravel())"
   ]
  },
  {
   "cell_type": "code",
   "execution_count": 194,
   "metadata": {},
   "outputs": [
    {
     "name": "stdout",
     "output_type": "stream",
     "text": [
      "59875.1848802\n"
     ]
    }
   ],
   "source": [
    "out_forest=forest_model.predict(X_test_clean)\n",
    "print(np.sqrt(mean_squared_error(np.c_[y_test].ravel(),out_forest)))"
   ]
  },
  {
   "cell_type": "code",
   "execution_count": 191,
   "metadata": {},
   "outputs": [
    {
     "name": "stdout",
     "output_type": "stream",
     "text": [
      "67215.5608281\n"
     ]
    }
   ],
   "source": [
    "out_neigh=neigh_model.predict(X_test_clean)\n",
    "print(np.sqrt(mean_squared_error(np.c_[y_test].ravel(),out_neigh)))"
   ]
  },
  {
   "cell_type": "code",
   "execution_count": 192,
   "metadata": {},
   "outputs": [
    {
     "name": "stdout",
     "output_type": "stream",
     "text": [
      "60726.6768259\n"
     ]
    }
   ],
   "source": [
    "output_1=forest_model.predict(X_test_clean)\n",
    "output_2=neigh_model.predict(X_test_clean)\n",
    "output=(output_1+output_2)/2\n",
    "\n",
    "print(np.sqrt(mean_squared_error(np.c_[y_test].ravel(),output)))"
   ]
  }
 ],
 "metadata": {
  "kernelspec": {
   "display_name": "Python 3",
   "language": "python",
   "name": "python3"
  },
  "language_info": {
   "codemirror_mode": {
    "name": "ipython",
    "version": 3
   },
   "file_extension": ".py",
   "mimetype": "text/x-python",
   "name": "python",
   "nbconvert_exporter": "python",
   "pygments_lexer": "ipython3",
   "version": "3.6.3"
  }
 },
 "nbformat": 4,
 "nbformat_minor": 2
}
